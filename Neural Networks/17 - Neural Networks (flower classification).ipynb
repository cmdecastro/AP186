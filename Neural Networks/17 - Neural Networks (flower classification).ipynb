{
 "cells": [
  {
   "cell_type": "markdown",
   "metadata": {},
   "source": [
    "# Neural Networks - Classifying flowers"
   ]
  },
  {
   "cell_type": "code",
   "execution_count": 9,
   "metadata": {},
   "outputs": [],
   "source": [
    "import numpy as np\n",
    "import matplotlib.pyplot as plt\n",
    "import pandas as pd"
   ]
  },
  {
   "cell_type": "markdown",
   "metadata": {},
   "source": [
    "### Read csv files containing extracted features from flower images"
   ]
  },
  {
   "cell_type": "code",
   "execution_count": 10,
   "metadata": {},
   "outputs": [],
   "source": [
    "roses = pd.read_csv('rose_features.csv').drop('Unnamed: 0',1).values\n",
    "butterflypeas = pd.read_csv('butterflypea_features.csv').drop('Unnamed: 0',1).values\n",
    "chrysanthemums = pd.read_csv('chrysanthemum_features.csv').drop('Unnamed: 0',1).values"
   ]
  },
  {
   "cell_type": "markdown",
   "metadata": {},
   "source": [
    "## Activation Functions"
   ]
  },
  {
   "cell_type": "code",
   "execution_count": 11,
   "metadata": {},
   "outputs": [],
   "source": [
    "#sigmoid function\n",
    "def g(a):\n",
    "    return 1/(1+np.exp(-a))\n",
    "def g_prime(a):\n",
    "    return g(a)*(1-g(a))\n",
    "\n",
    "#hyperbolic tangent\n",
    "# def g(a):\n",
    "#     return (np.exp(a)-np.exp(-a))/(np.exp(a)+np.exp(-a))\n",
    "# def g_prime(a):\n",
    "#     return 1+(g(a)**2)\n",
    "\n",
    "#linear function\n",
    "# def g(a):\n",
    "#     return a\n",
    "# def g_prime(a):\n",
    "#     return 1"
   ]
  },
  {
   "cell_type": "markdown",
   "metadata": {},
   "source": [
    "## Main Algorithm for Neural Networks"
   ]
  },
  {
   "cell_type": "code",
   "execution_count": 12,
   "metadata": {},
   "outputs": [],
   "source": [
    "def neural_net(x_i,t_k,w_ji,w_kj):\n",
    "    #hidden unit\n",
    "    a_j = w_ji@x_i\n",
    "    z_j = g(a_j)\n",
    "\n",
    "    #output unit\n",
    "    z_j[0] = 1\n",
    "    a_k = np.sum(w_kj*z_j)\n",
    "    y_k = g(a_k)\n",
    "\n",
    "    #error of output units\n",
    "    delta_k = g_prime(a_k)*(y_k-t_k)\n",
    "\n",
    "    #error of hidden units\n",
    "    delta_j = g_prime(a_j)*(delta_k*w_kj)\n",
    "\n",
    "    #error derivatives\n",
    "    error_kj = delta_k*z_j\n",
    "    error_ji = np.copy(w_ji)\n",
    "    for p in range(len(delta_j)):\n",
    "        error_ji[p] = delta_j[p]*x_i\n",
    "\n",
    "    #total sum of squares error\n",
    "    E_q = ((y_k-t_k)**2)/2\n",
    "    \n",
    "    return E_q,error_ji,error_kj"
   ]
  },
  {
   "cell_type": "markdown",
   "metadata": {},
   "source": [
    "### Set Expected Class Outputs for each flower type"
   ]
  },
  {
   "cell_type": "code",
   "execution_count": 13,
   "metadata": {},
   "outputs": [],
   "source": [
    "t_k1 = 0.3 #roses\n",
    "t_k2 = 0.6 #chrysanthemums\n",
    "t_k3 = 0.9 #butterfly peas"
   ]
  },
  {
   "cell_type": "markdown",
   "metadata": {},
   "source": [
    "### Initialize random weights"
   ]
  },
  {
   "cell_type": "code",
   "execution_count": 14,
   "metadata": {},
   "outputs": [],
   "source": [
    "w_ji = np.random.random((roses.shape[1],roses.shape[1]+1))\n",
    "w_kj = np.random.random(roses.shape[1])"
   ]
  },
  {
   "cell_type": "markdown",
   "metadata": {},
   "source": [
    "### Running for one pattern"
   ]
  },
  {
   "cell_type": "code",
   "execution_count": 15,
   "metadata": {},
   "outputs": [],
   "source": [
    "def pattern(Class,t_k,w_ji,w_kj):\n",
    "    E = []\n",
    "    E_kj = []\n",
    "    E_ji = []\n",
    "\n",
    "    for i in range(len(Class)):\n",
    "        x_i = np.array([1] + Class[i].tolist())\n",
    "        E_q,error_ji,error_kj = neural_net(x_i,t_k,w_ji,w_kj)\n",
    "        E.append(E_q)\n",
    "        E_ji.append(error_ji)\n",
    "        E_kj.append(error_kj)\n",
    "        \n",
    "    return E,np.sum(E_kj,axis=0),np.sum(E_ji,axis=0)"
   ]
  },
  {
   "cell_type": "markdown",
   "metadata": {},
   "source": [
    "## Applying Neural Network on Training Set"
   ]
  },
  {
   "cell_type": "code",
   "execution_count": 16,
   "metadata": {},
   "outputs": [],
   "source": [
    "errors = []\n",
    "counter = 0\n",
    "\n",
    "while True:    \n",
    "    E1,E_kj1,E_ji1 = pattern(roses[:np.int(len(roses)/2)],t_k1,w_ji,w_kj)\n",
    "    E2,E_kj2,E_ji2 = pattern(chrysanthemums[:np.int(len(chrysanthemums)/2)],t_k2,w_ji,w_kj)\n",
    "    E3,E_kj3,E_ji3 = pattern(butterflypeas[:np.int(len(butterflypeas)/2)],t_k3,w_ji,w_kj)\n",
    "\n",
    "    #sum errors\n",
    "    E = np.sum(E1+E2+E3)\n",
    "    E_kj = E_kj1+E_kj2+E_kj3\n",
    "    E_ji = E_ji1+E_ji2+E_ji3\n",
    "    errors.append(E)\n",
    "\n",
    "    #calculating change in weights\n",
    "    learning_rate = 0.1\n",
    "    delta_wji = -learning_rate*E_ji\n",
    "    delta_wkj = -learning_rate*E_kj\n",
    "\n",
    "    #change weights\n",
    "    w_ji += delta_wji\n",
    "    w_kj += delta_wkj\n",
    "    \n",
    "    #counting epochs\n",
    "    counter += 1\n",
    "    \n",
    "    #minimizing error\n",
    "    if E < 0.01:\n",
    "        break"
   ]
  },
  {
   "cell_type": "markdown",
   "metadata": {},
   "source": [
    "### Plot the convergence of the Neural Network on the training set"
   ]
  },
  {
   "cell_type": "code",
   "execution_count": 17,
   "metadata": {},
   "outputs": [
    {
     "data": {
      "image/png": "[encoded data removed]",
      "text/plain": [
       "<Figure size 576x432 with 1 Axes>"
      ]
     },
     "metadata": {
      "needs_background": "light"
     },
     "output_type": "display_data"
    }
   ],
   "source": [
    "plt.figure(figsize=(8,6))\n",
    "plt.plot(np.arange(counter),errors)\n",
    "plt.xlabel('epochs',fontsize=16)\n",
    "plt.ylabel('E',fontsize=16)\n",
    "# plt.savefig('tanh.png',dpi=300,bbox_inches='tight')\n",
    "plt.show()"
   ]
  },
  {
   "cell_type": "markdown",
   "metadata": {},
   "source": [
    "## Checking test set of flowers"
   ]
  },
  {
   "cell_type": "code",
   "execution_count": 11,
   "metadata": {},
   "outputs": [],
   "source": [
    "def tester(x_i,w_ji,w_kj):\n",
    "    x_i = np.array([1] + x_i.tolist())\n",
    "    \n",
    "    #hidden unit\n",
    "    a_j = w_ji@x_i\n",
    "    z_j = g(a_j)\n",
    "\n",
    "    #output unit\n",
    "    z_j[0] = 1\n",
    "    a_k = z_j.T@w_kj\n",
    "    y_k = g(a_k)\n",
    "    \n",
    "    return np.round(y_k,1)"
   ]
  },
  {
   "cell_type": "markdown",
   "metadata": {},
   "source": [
    "## Classify Test set of roses"
   ]
  },
  {
   "cell_type": "code",
   "execution_count": 12,
   "metadata": {},
   "outputs": [
    {
     "name": "stdout",
     "output_type": "stream",
     "text": [
      "0.3\n",
      "0.3\n",
      "0.3\n",
      "0.3\n",
      "0.3\n",
      "0.3\n",
      "0.3\n",
      "0.3\n",
      "0.3\n"
     ]
    }
   ],
   "source": [
    "for i in range(np.int(len(roses)/2)):\n",
    "    print(tester(roses[np.int(len(roses)/2):][i],w_ji,w_kj))"
   ]
  },
  {
   "cell_type": "markdown",
   "metadata": {},
   "source": [
    "## Classify Test set of chrysanthemums"
   ]
  },
  {
   "cell_type": "code",
   "execution_count": 13,
   "metadata": {},
   "outputs": [
    {
     "name": "stdout",
     "output_type": "stream",
     "text": [
      "0.6\n",
      "0.6\n",
      "0.6\n",
      "0.6\n",
      "0.6\n",
      "0.6\n",
      "0.6\n",
      "0.6\n",
      "0.6\n",
      "0.6\n"
     ]
    }
   ],
   "source": [
    "for i in range(np.int(len(chrysanthemums)/2)):\n",
    "    print(tester(chrysanthemums[np.int(len(chrysanthemums)/2):][i],w_ji,w_kj))"
   ]
  },
  {
   "cell_type": "markdown",
   "metadata": {},
   "source": [
    "## Classify Test set of butterfly peas"
   ]
  },
  {
   "cell_type": "code",
   "execution_count": 14,
   "metadata": {},
   "outputs": [
    {
     "name": "stdout",
     "output_type": "stream",
     "text": [
      "0.9\n",
      "0.9\n",
      "0.9\n",
      "0.9\n",
      "0.9\n",
      "0.9\n",
      "0.9\n",
      "0.9\n",
      "0.9\n",
      "0.9\n",
      "0.9\n",
      "0.9\n",
      "0.9\n",
      "0.9\n"
     ]
    }
   ],
   "source": [
    "for i in range(np.int(len(butterflypeas)/2)):\n",
    "    print(tester(butterflypeas[np.int(len(butterflypeas)/2):][i],w_ji,w_kj))"
   ]
  }
 ],
 "metadata": {
  "kernelspec": {
   "display_name": "Python 3",
   "language": "python",
   "name": "python3"
  },
  "language_info": {
   "codemirror_mode": {
    "name": "ipython",
    "version": 3
   },
   "file_extension": ".py",
   "mimetype": "text/x-python",
   "name": "python",
   "nbconvert_exporter": "python",
   "pygments_lexer": "ipython3",
   "version": "3.6.7"
  }
 },
 "nbformat": 4,
 "nbformat_minor": 2
}
