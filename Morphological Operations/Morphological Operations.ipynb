{
 "cells": [
  {
   "cell_type": "markdown",
   "metadata": {},
   "source": [
    "# Morphological Operations"
   ]
  },
  {
   "cell_type": "code",
   "execution_count": 1,
   "metadata": {},
   "outputs": [],
   "source": [
    "import numpy as np\n",
    "import matplotlib.pyplot as plt\n",
    "import cv2"
   ]
  },
  {
   "cell_type": "markdown",
   "metadata": {},
   "source": [
    "## Creating Structuring Elements"
   ]
  },
  {
   "cell_type": "code",
   "execution_count": 2,
   "metadata": {},
   "outputs": [],
   "source": [
    "box = np.ones((2,2))\n",
    "vertical = np.array([[1],[1]],dtype='float')\n",
    "horizontal = np.array([[1,1]],dtype='float')\n",
    "cross = np.array([[0,1,0],[1,1,1],[0,1,0]],dtype='uint8')\n",
    "\n",
    "diagonal = np.zeros((4,4),dtype='uint8')\n",
    "diagonal[1,1] = 1\n",
    "diagonal[2,2] = 1"
   ]
  },
  {
   "cell_type": "code",
   "execution_count": 3,
   "metadata": {},
   "outputs": [],
   "source": [
    "box = np.zeros((4,4))\n",
    "box[1:3,1:3] = 1\n",
    "\n",
    "vertical = np.zeros((3,3))\n",
    "vertical[1:3,1] = 1\n",
    "\n",
    "horizontal = np.zeros((3,3))\n",
    "horizontal[1,1:3] = 1\n",
    "\n",
    "cross = np.array([[0,1,0],[1,1,1],[0,1,0]],dtype='uint8')\n",
    "\n",
    "diagonal = np.zeros((4,4),dtype='uint8')\n",
    "diagonal[1,1] = 1\n",
    "diagonal[2,2] = 1"
   ]
  },
  {
   "cell_type": "code",
   "execution_count": 6,
   "metadata": {},
   "outputs": [
    {
     "data": {
      "image/png": "[encoded data removed]",
      "text/plain": [
       "<Figure size 576x432 with 1 Axes>"
      ]
     },
     "metadata": {},
     "output_type": "display_data"
    }
   ],
   "source": [
    "plt.figure(figsize=(8,6))\n",
    "plt.imshow(diagonal,cmap='gray'),plt.xticks([]),plt.yticks([])\n",
    "plt.show()\n",
    "\n",
    "# plt.savefig('diagonal.png',dpi=300,bbox_inches='tight')"
   ]
  },
  {
   "cell_type": "markdown",
   "metadata": {},
   "source": [
    "## Display all structuring elements"
   ]
  },
  {
   "cell_type": "code",
   "execution_count": 4,
   "metadata": {},
   "outputs": [
    {
     "data": {
      "image/png": "[encoded data removed]",
      "text/plain": [
       "<Figure size 864x720 with 5 Axes>"
      ]
     },
     "metadata": {},
     "output_type": "display_data"
    }
   ],
   "source": [
    "plt.figure(figsize=(12,10))\n",
    "plt.subplot(151)\n",
    "plt.imshow(box,cmap='binary'),plt.xticks([]),plt.yticks([])\n",
    "plt.subplot(152)\n",
    "plt.imshow(vertical,cmap='gray'),plt.xticks([]),plt.yticks([])\n",
    "plt.subplot(153)\n",
    "plt.imshow(horizontal,cmap='gray'),plt.xticks([]),plt.yticks([])\n",
    "plt.subplot(154)\n",
    "plt.imshow(cross,cmap='gray'),plt.xticks([]),plt.yticks([])\n",
    "plt.subplot(155)\n",
    "plt.imshow(diagonal,cmap='gray'),plt.xticks([]),plt.yticks([])\n",
    "\n",
    "plt.show()"
   ]
  },
  {
   "cell_type": "markdown",
   "metadata": {},
   "source": [
    "## Creating Original Binary Images"
   ]
  },
  {
   "cell_type": "code",
   "execution_count": 9,
   "metadata": {},
   "outputs": [],
   "source": [
    "square = np.zeros((7,7))\n",
    "square[1:6,1:6] = 1.\n",
    "\n",
    "triangle = np.zeros((7,7))\n",
    "triangle[4,1:5] = 1.\n",
    "triangle[3,1:3] = 1.\n",
    "triangle[2,1] = 1.\n",
    "\n",
    "hollow = np.zeros((12,12))\n",
    "hollow[1:11,1:11] = 1.\n",
    "hollow[3:9,3:9] = 0.\n",
    "\n",
    "plus = np.zeros((7,7))\n",
    "plus[3,1:6] = 1.\n",
    "plus[1:6,3] = 1."
   ]
  },
  {
   "cell_type": "code",
   "execution_count": 10,
   "metadata": {},
   "outputs": [
    {
     "data": {
      "text/plain": [
       "(<matplotlib.image.AxesImage at 0x7fcaf0201828>,\n",
       " ([], <a list of 0 Text xticklabel objects>),\n",
       " ([], <a list of 0 Text yticklabel objects>))"
      ]
     },
     "execution_count": 10,
     "metadata": {},
     "output_type": "execute_result"
    },
    {
     "data": {
      "image/png": "[encoded data removed]",
      "text/plain": [
       "<Figure size 576x432 with 1 Axes>"
      ]
     },
     "metadata": {},
     "output_type": "display_data"
    }
   ],
   "source": [
    "plt.figure(figsize=(8,6))\n",
    "plt.imshow(plus,cmap='gray'),plt.xticks([]),plt.yticks([])\n",
    "\n",
    "# plt.savefig('plus.png',dpi=300,bbox_inches='tight')"
   ]
  },
  {
   "cell_type": "markdown",
   "metadata": {},
   "source": [
    "## Display all original binary images"
   ]
  },
  {
   "cell_type": "code",
   "execution_count": 11,
   "metadata": {},
   "outputs": [
    {
     "data": {
      "image/png": "[encoded data removed]",
      "text/plain": [
       "<Figure size 1152x1008 with 4 Axes>"
      ]
     },
     "metadata": {},
     "output_type": "display_data"
    }
   ],
   "source": [
    "plt.figure(figsize=(16,14))\n",
    "plt.subplot(141)\n",
    "plt.imshow(square,cmap='gray'),plt.xticks([]),plt.yticks([])\n",
    "plt.subplot(142)\n",
    "plt.imshow(triangle,cmap='gray'),plt.xticks([]),plt.yticks([])\n",
    "plt.subplot(143)\n",
    "plt.imshow(hollow,cmap='gray'),plt.xticks([]),plt.yticks([])\n",
    "plt.subplot(144)\n",
    "plt.imshow(plus,cmap='gray'),plt.xticks([]),plt.yticks([])\n",
    "\n",
    "plt.show()"
   ]
  },
  {
   "cell_type": "code",
   "execution_count": 16,
   "metadata": {},
   "outputs": [],
   "source": [
    "def erode_dilate(original,kernel):\n",
    "    erosion = cv2.erode(original,kernel,iterations=1)\n",
    "    dilation = cv2.dilate(original,kernel,iterations=1)\n",
    "    \n",
    "    plt.figure(figsize=(10,8))\n",
    "    \n",
    "    plt.subplot(121)\n",
    "    plt.title('Erosion',fontsize=18)\n",
    "    plt.imshow(erosion,cmap='gray'),plt.xticks([]),plt.yticks([])\n",
    "    plt.subplot(122)\n",
    "    plt.title('Dilation',fontsize=18)\n",
    "    plt.imshow(dilation,cmap='gray'),plt.xticks([]),plt.yticks([])\n",
    "    \n",
    "#     plt.savefig('plus_diag.png',dpi=300,bbox_inches='tight')\n",
    "    \n",
    "    plt.show()"
   ]
  },
  {
   "cell_type": "code",
   "execution_count": 17,
   "metadata": {},
   "outputs": [
    {
     "data": {
      "image/png": "[encoded data removed]",
      "text/plain": [
       "<Figure size 720x576 with 2 Axes>"
      ]
     },
     "metadata": {},
     "output_type": "display_data"
    }
   ],
   "source": [
    "erode_dilate(triangle,diagonal)"
   ]
  }
 ],
 "metadata": {
  "kernelspec": {
   "display_name": "Python 3",
   "language": "python",
   "name": "python3"
  },
  "language_info": {
   "codemirror_mode": {
    "name": "ipython",
    "version": 3
   },
   "file_extension": ".py",
   "mimetype": "text/x-python",
   "name": "python",
   "nbconvert_exporter": "python",
   "pygments_lexer": "ipython3",
   "version": "3.6.7"
  }
 },
 "nbformat": 4,
 "nbformat_minor": 2
}
