{
 "cells": [
  {
   "cell_type": "markdown",
   "metadata": {},
   "source": [
    "# Expectation Maximization"
   ]
  },
  {
   "cell_type": "code",
   "execution_count": 1,
   "metadata": {},
   "outputs": [],
   "source": [
    "import numpy as np\n",
    "import matplotlib.pyplot as plt\n",
    "import pandas as pd"
   ]
  },
  {
   "cell_type": "markdown",
   "metadata": {},
   "source": [
    "## Read csv files containing features extracted from flower images"
   ]
  },
  {
   "cell_type": "code",
   "execution_count": 2,
   "metadata": {},
   "outputs": [],
   "source": [
    "butterfly_peas = pd.read_csv('butterflypea_features.csv')\n",
    "chrysanthemum = pd.read_csv('chrysanthemum_features.csv')\n",
    "rose = pd.read_csv('rose_features.csv')"
   ]
  },
  {
   "cell_type": "code",
   "execution_count": 3,
   "metadata": {},
   "outputs": [],
   "source": [
    "data = butterfly_peas.append(chrysanthemum,ignore_index=True)\n",
    "data = data.append(rose,ignore_index=True).drop(columns='Unnamed: 0')"
   ]
  },
  {
   "cell_type": "markdown",
   "metadata": {},
   "source": [
    "### Generate a Gaussian function"
   ]
  },
  {
   "cell_type": "code",
   "execution_count": 4,
   "metadata": {},
   "outputs": [],
   "source": [
    "def generate_gaussian():\n",
    "    mu = np.random.rand(2)\n",
    "    std = np.random.rand(2,2)  \n",
    "    \n",
    "    return mu,std"
   ]
  },
  {
   "cell_type": "markdown",
   "metadata": {},
   "source": [
    "###  Generate 2D Gaussian probability"
   ]
  },
  {
   "cell_type": "code",
   "execution_count": 5,
   "metadata": {},
   "outputs": [],
   "source": [
    "def gaussian_2d(mu,std,features):\n",
    "    \n",
    "    coeff = 1/(2*np.pi*(np.linalg.det(std)**2))\n",
    "    exponent = -(np.asmatrix(features-mu)@np.asmatrix(np.linalg.inv(std))@np.asmatrix((features-mu)).T)\n",
    "\n",
    "    return coeff*np.exp(np.array(exponent)/2)"
   ]
  },
  {
   "cell_type": "markdown",
   "metadata": {},
   "source": [
    "## Probability of each data point given the parameters"
   ]
  },
  {
   "cell_type": "code",
   "execution_count": 6,
   "metadata": {},
   "outputs": [],
   "source": [
    "def probability(sample,mu,std):\n",
    "    r = sample['r']\n",
    "    e = sample['eccentricity']\n",
    "    features = np.array([r,e])\n",
    "    \n",
    "    return gaussian_2d(mu,std,features)[0][0]"
   ]
  },
  {
   "cell_type": "markdown",
   "metadata": {},
   "source": [
    "## Probability of class l given data point xi and parameters"
   ]
  },
  {
   "cell_type": "code",
   "execution_count": 7,
   "metadata": {},
   "outputs": [],
   "source": [
    "def prob_of_l(P,sample,mu,std):\n",
    "    Pl_given_x = []\n",
    "    \n",
    "    p_l1 = probability(sample,mu[0],std[0]) #gaussian component pdf \n",
    "    p_l2 = probability(sample,mu[1],std[1]) #gaussian component pdf \n",
    "    p_l3 = probability(sample,mu[2],std[2]) #gaussian component pdf \n",
    "\n",
    "    prob = P*np.array([p_l1,p_l2,p_l3])\n",
    "    Pl_given_x = prob/np.sum(prob)\n",
    "    \n",
    "    return Pl_given_x"
   ]
  },
  {
   "cell_type": "markdown",
   "metadata": {},
   "source": [
    "## New prior probability"
   ]
  },
  {
   "cell_type": "code",
   "execution_count": 8,
   "metadata": {},
   "outputs": [],
   "source": [
    "def new_prob(P,mu,std):\n",
    "    prob_l = []\n",
    "    \n",
    "    for k in range(len(data)):\n",
    "        prob_l.append(prob_of_l(P,data.iloc[k],mu,std))\n",
    "    \n",
    "    return np.sum(np.array(prob_l),axis=0)/len(data)"
   ]
  },
  {
   "cell_type": "markdown",
   "metadata": {},
   "source": [
    "## New mean"
   ]
  },
  {
   "cell_type": "code",
   "execution_count": 9,
   "metadata": {},
   "outputs": [],
   "source": [
    "def new_mean(P,mu,std):\n",
    "    numerator1 = []\n",
    "    numerator2 = []\n",
    "    numerator3 = []\n",
    "    \n",
    "    denominator = []\n",
    "    for j in range(len(data)):\n",
    "        sample = data.iloc[j]\n",
    "        \n",
    "        prob_l = prob_of_l(P,sample,mu,std)\n",
    "        denominator.append(prob_l)\n",
    "        \n",
    "        X = np.array([sample['r'],sample['eccentricity']])\n",
    "        numerator1.append(X*prob_l[0])\n",
    "        numerator2.append(X*prob_l[1])\n",
    "        numerator3.append(X*prob_l[2])\n",
    "    \n",
    "    denominator = np.array(denominator)\n",
    "        \n",
    "    new_mu1 = np.sum(numerator1,axis=0)/np.sum(denominator[:,0])\n",
    "    new_mu2 = np.sum(numerator2,axis=0)/np.sum(denominator[:,1])\n",
    "    new_mu3 = np.sum(numerator3,axis=0)/np.sum(denominator[:,2])\n",
    "    \n",
    "    return np.array([new_mu1,new_mu2,new_mu3])"
   ]
  },
  {
   "cell_type": "markdown",
   "metadata": {},
   "source": [
    "## New standard deviation"
   ]
  },
  {
   "cell_type": "code",
   "execution_count": 10,
   "metadata": {},
   "outputs": [],
   "source": [
    "def new_std(P,mu_new,mu,std):\n",
    "    numerator1 = []\n",
    "    numerator2 = []\n",
    "    numerator3 = []\n",
    "    \n",
    "    denominator = []\n",
    "\n",
    "    for s in range(len(data)):\n",
    "        sample = data.iloc[s]\n",
    "        prob_l = prob_of_l(P,sample,mu,std)\n",
    "        denominator.append(prob_l)\n",
    "        \n",
    "        X = np.array([sample['r'],sample['eccentricity']])\n",
    "        difference1 = np.asmatrix(X-mu_new[0])\n",
    "        difference2 = np.asmatrix(X-mu_new[1])\n",
    "        difference3 = np.asmatrix(X-mu_new[2])\n",
    "        \n",
    "        numerator1.append(np.array(prob_l[0]*difference1.T@difference1))\n",
    "        numerator2.append(np.array(prob_l[1]*difference2.T@difference2))\n",
    "        numerator3.append(np.array(prob_l[2]*difference3.T@difference3))\n",
    "        \n",
    "    denominator = np.array(denominator)\n",
    "    \n",
    "    new_std1 = np.sum(numerator1,axis=0)/np.sum(denominator[:,0])\n",
    "    new_std2 = np.sum(numerator2,axis=0)/np.sum(denominator[:,1])\n",
    "    new_std3 = np.sum(numerator3,axis=0)/np.sum(denominator[:,2])\n",
    "\n",
    "    return np.array([new_std1,new_std2,new_std3])"
   ]
  },
  {
   "cell_type": "markdown",
   "metadata": {},
   "source": [
    "## Stopping Condition"
   ]
  },
  {
   "cell_type": "code",
   "execution_count": 11,
   "metadata": {},
   "outputs": [],
   "source": [
    "def stopping_condition(old,new):\n",
    "    threshold = 0.01\n",
    "    diff = np.abs(new-old)\n",
    "    if diff.all() > threshold:\n",
    "        return True\n",
    "    else:\n",
    "        return False"
   ]
  },
  {
   "cell_type": "markdown",
   "metadata": {},
   "source": [
    "## Main Expectation Maximization Algorithm"
   ]
  },
  {
   "cell_type": "code",
   "execution_count": 12,
   "metadata": {},
   "outputs": [],
   "source": [
    "# np.random.seed()\n",
    "\n",
    "mu1_old,std1_old = generate_gaussian()\n",
    "mu2_old = generate_gaussian()[0]\n",
    "mu3_old = generate_gaussian()[0]\n",
    "\n",
    "std2_old = std1_old\n",
    "std3_old = std1_old\n",
    "\n",
    "M = 4 #number of classes\n",
    "P_old = np.array(3*[1/M]) #prior probability\n",
    "\n",
    "mu_old = np.array([mu1_old,mu2_old,mu3_old])\n",
    "std_old = np.array([std1_old,std2_old,std3_old])"
   ]
  },
  {
   "cell_type": "code",
   "execution_count": 13,
   "metadata": {},
   "outputs": [],
   "source": [
    "mu_new = new_mean(P_old,mu_old,std_old)\n",
    "std_new = new_std(P_old,mu_new,mu_old,std_old)\n",
    "P_new = new_prob(P_old,mu_old,std_old)\n",
    "counter = 0\n",
    "while True:\n",
    "    P_old = P_new\n",
    "    \n",
    "    if stopping_condition(mu_old,mu_new):\n",
    "        mu_old = mu_new\n",
    "        mu_new = new_mean(P_new,mu_old,std_old)\n",
    "        \n",
    "    if stopping_condition(std_old,std_new):\n",
    "        std_old = std_new\n",
    "        std_new = new_std(P_new,mu_new,mu_old,std_old)\n",
    "        \n",
    "    else:\n",
    "        break\n",
    "    counter += 1\n",
    "    P_new = new_prob(P_old,mu_old,std_old)"
   ]
  },
  {
   "cell_type": "markdown",
   "metadata": {},
   "source": [
    "## Generate a heat map of the probability distribution function"
   ]
  },
  {
   "cell_type": "code",
   "execution_count": 14,
   "metadata": {},
   "outputs": [],
   "source": [
    "x = np.linspace(0,1,100)\n",
    "y = np.linspace(0,1,100)"
   ]
  },
  {
   "cell_type": "code",
   "execution_count": 15,
   "metadata": {},
   "outputs": [],
   "source": [
    "z1 = np.zeros((len(x),len(y)))\n",
    "z2 = np.zeros((len(x),len(y)))\n",
    "z3 = np.zeros((len(x),len(y)))\n",
    "\n",
    "for i in range(len(x)):\n",
    "    for j in range(len(y)):\n",
    "        xx = x[i]\n",
    "        yy = y[j]\n",
    "        z1[i][j] = gaussian_2d(mu_new[0],std_new[0],np.array([xx,yy]))[0][0]\n",
    "        z2[i][j] = gaussian_2d(mu_new[1],std_new[1],np.array([xx,yy]))[0][0]        \n",
    "        z3[i][j] = gaussian_2d(mu_new[2],std_new[2],np.array([xx,yy]))[0][0]        "
   ]
  },
  {
   "cell_type": "code",
   "execution_count": 16,
   "metadata": {},
   "outputs": [],
   "source": [
    "z1 = z1/np.amax(z1)\n",
    "z2 = z2/np.amax(z2)\n",
    "z3 = z3/np.amax(z3)"
   ]
  },
  {
   "cell_type": "markdown",
   "metadata": {},
   "source": [
    "## Overlay scatterplot of flower features over generate PDF heatmap"
   ]
  },
  {
   "cell_type": "code",
   "execution_count": 17,
   "metadata": {},
   "outputs": [
    {
     "data": {
      "image/png": "[encoded data removed]",
      "text/plain": [
       "<Figure size 720x576 with 2 Axes>"
      ]
     },
     "metadata": {
      "needs_background": "light"
     },
     "output_type": "display_data"
    }
   ],
   "source": [
    "plt.figure(figsize=(10,8))\n",
    "\n",
    "plt.imshow((z1+z2+z3).T,origin='lower',cmap='YlGnBu')\n",
    "plt.colorbar()\n",
    "\n",
    "plt.scatter(100*rose['r'],100*rose['eccentricity'],c='red',s=30,label='roses')\n",
    "plt.scatter(100*chrysanthemum['r'],100*chrysanthemum['eccentricity'],c='orange',s=30,label='chrysanthemums')\n",
    "plt.scatter(100*butterfly_peas['r'],100*butterfly_peas['eccentricity'],c='purple',s=30,label='butterfly peas')\n",
    "\n",
    "plt.xticks(np.arange(0,120,20),['0','0.2','0.4','0.6','0.8','1.0'])\n",
    "plt.yticks(np.arange(0,120,20),['0','0.2','0.4','0.6','0.8','1.0'])\n",
    "plt.ylabel('eccentricity',fontsize=16)\n",
    "plt.xlabel('r',fontsize=16)\n",
    "plt.legend(loc=(1.18,0.8),fontsize=16)\n",
    "\n",
    "# plt.savefig('rvse_P4.png',dpi=300,bbox_inches='tight')\n",
    "plt.show()"
   ]
  }
 ],
 "metadata": {
  "kernelspec": {
   "display_name": "Python 3",
   "language": "python",
   "name": "python3"
  },
  "language_info": {
   "codemirror_mode": {
    "name": "ipython",
    "version": 3
   },
   "file_extension": ".py",
   "mimetype": "text/x-python",
   "name": "python",
   "nbconvert_exporter": "python",
   "pygments_lexer": "ipython3",
   "version": "3.6.7"
  }
 },
 "nbformat": 4,
 "nbformat_minor": 2
}
